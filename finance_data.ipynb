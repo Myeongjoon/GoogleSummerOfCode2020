{
  "nbformat": 4,
  "nbformat_minor": 0,
  "metadata": {
    "colab": {
      "name": "finance_data.ipynb",
      "provenance": [],
      "collapsed_sections": [],
      "authorship_tag": "ABX9TyNc6ad1JrlnE3hGUis5o8WN",
      "include_colab_link": true
    },
    "kernelspec": {
      "name": "python3",
      "display_name": "Python 3"
    }
  },
  "cells": [
    {
      "cell_type": "markdown",
      "metadata": {
        "id": "view-in-github",
        "colab_type": "text"
      },
      "source": [
        "<a href=\"https://colab.research.google.com/github/Myeongjoon/GoogleSummerOfCode2020/blob/master/finance_data.ipynb\" target=\"_parent\"><img src=\"https://colab.research.google.com/assets/colab-badge.svg\" alt=\"Open In Colab\"/></a>"
      ]
    },
    {
      "cell_type": "code",
      "metadata": {
        "id": "nVezVY8CtCAX",
        "colab_type": "code",
        "outputId": "b29e6821-99f6-48ee-bf13-2af88c66ade5",
        "colab": {
          "base_uri": "https://localhost:8080/",
          "height": 413
        }
      },
      "source": [
        "from pandas_datareader import data\n",
        "import matplotlib.pyplot as plt\n",
        "import pandas as pd\n",
        "\n",
        "googl_start_date = '2004-08-19'\n",
        "googl_end_date = '2020-04-17'\n",
        "\n",
        "googl_data = data.DataReader('GOOGL', 'yahoo', googl_start_date, googl_end_date)\n",
        "\n",
        "googl_data.head(9)"
      ],
      "execution_count": 1,
      "outputs": [
        {
          "output_type": "stream",
          "text": [
            "/usr/local/lib/python3.6/dist-packages/pandas_datareader/compat/__init__.py:7: FutureWarning: pandas.util.testing is deprecated. Use the functions in the public API at pandas.testing instead.\n",
            "  from pandas.util.testing import assert_frame_equal\n"
          ],
          "name": "stderr"
        },
        {
          "output_type": "execute_result",
          "data": {
            "text/html": [
              "<div>\n",
              "<style scoped>\n",
              "    .dataframe tbody tr th:only-of-type {\n",
              "        vertical-align: middle;\n",
              "    }\n",
              "\n",
              "    .dataframe tbody tr th {\n",
              "        vertical-align: top;\n",
              "    }\n",
              "\n",
              "    .dataframe thead th {\n",
              "        text-align: right;\n",
              "    }\n",
              "</style>\n",
              "<table border=\"1\" class=\"dataframe\">\n",
              "  <thead>\n",
              "    <tr style=\"text-align: right;\">\n",
              "      <th></th>\n",
              "      <th>High</th>\n",
              "      <th>Low</th>\n",
              "      <th>Open</th>\n",
              "      <th>Close</th>\n",
              "      <th>Volume</th>\n",
              "      <th>Adj Close</th>\n",
              "    </tr>\n",
              "    <tr>\n",
              "      <th>Date</th>\n",
              "      <th></th>\n",
              "      <th></th>\n",
              "      <th></th>\n",
              "      <th></th>\n",
              "      <th></th>\n",
              "      <th></th>\n",
              "    </tr>\n",
              "  </thead>\n",
              "  <tbody>\n",
              "    <tr>\n",
              "      <th>2004-08-19</th>\n",
              "      <td>52.082081</td>\n",
              "      <td>48.028027</td>\n",
              "      <td>50.050049</td>\n",
              "      <td>50.220219</td>\n",
              "      <td>44659000.0</td>\n",
              "      <td>50.220219</td>\n",
              "    </tr>\n",
              "    <tr>\n",
              "      <th>2004-08-20</th>\n",
              "      <td>54.594593</td>\n",
              "      <td>50.300301</td>\n",
              "      <td>50.555557</td>\n",
              "      <td>54.209209</td>\n",
              "      <td>22834300.0</td>\n",
              "      <td>54.209209</td>\n",
              "    </tr>\n",
              "    <tr>\n",
              "      <th>2004-08-23</th>\n",
              "      <td>56.796795</td>\n",
              "      <td>54.579578</td>\n",
              "      <td>55.430431</td>\n",
              "      <td>54.754753</td>\n",
              "      <td>18256100.0</td>\n",
              "      <td>54.754753</td>\n",
              "    </tr>\n",
              "    <tr>\n",
              "      <th>2004-08-24</th>\n",
              "      <td>55.855854</td>\n",
              "      <td>51.836838</td>\n",
              "      <td>55.675674</td>\n",
              "      <td>52.487488</td>\n",
              "      <td>15247300.0</td>\n",
              "      <td>52.487488</td>\n",
              "    </tr>\n",
              "    <tr>\n",
              "      <th>2004-08-25</th>\n",
              "      <td>54.054054</td>\n",
              "      <td>51.991993</td>\n",
              "      <td>52.532532</td>\n",
              "      <td>53.053055</td>\n",
              "      <td>9188600.0</td>\n",
              "      <td>53.053055</td>\n",
              "    </tr>\n",
              "    <tr>\n",
              "      <th>2004-08-26</th>\n",
              "      <td>54.029030</td>\n",
              "      <td>52.382381</td>\n",
              "      <td>52.527527</td>\n",
              "      <td>54.009010</td>\n",
              "      <td>7094800.0</td>\n",
              "      <td>54.009010</td>\n",
              "    </tr>\n",
              "    <tr>\n",
              "      <th>2004-08-27</th>\n",
              "      <td>54.364365</td>\n",
              "      <td>52.897900</td>\n",
              "      <td>54.104103</td>\n",
              "      <td>53.128128</td>\n",
              "      <td>6211700.0</td>\n",
              "      <td>53.128128</td>\n",
              "    </tr>\n",
              "    <tr>\n",
              "      <th>2004-08-30</th>\n",
              "      <td>52.797798</td>\n",
              "      <td>51.056057</td>\n",
              "      <td>52.692692</td>\n",
              "      <td>51.056057</td>\n",
              "      <td>5196700.0</td>\n",
              "      <td>51.056057</td>\n",
              "    </tr>\n",
              "    <tr>\n",
              "      <th>2004-08-31</th>\n",
              "      <td>51.906906</td>\n",
              "      <td>51.131130</td>\n",
              "      <td>51.201202</td>\n",
              "      <td>51.236237</td>\n",
              "      <td>4917800.0</td>\n",
              "      <td>51.236237</td>\n",
              "    </tr>\n",
              "  </tbody>\n",
              "</table>\n",
              "</div>"
            ],
            "text/plain": [
              "                 High        Low       Open      Close      Volume  Adj Close\n",
              "Date                                                                         \n",
              "2004-08-19  52.082081  48.028027  50.050049  50.220219  44659000.0  50.220219\n",
              "2004-08-20  54.594593  50.300301  50.555557  54.209209  22834300.0  54.209209\n",
              "2004-08-23  56.796795  54.579578  55.430431  54.754753  18256100.0  54.754753\n",
              "2004-08-24  55.855854  51.836838  55.675674  52.487488  15247300.0  52.487488\n",
              "2004-08-25  54.054054  51.991993  52.532532  53.053055   9188600.0  53.053055\n",
              "2004-08-26  54.029030  52.382381  52.527527  54.009010   7094800.0  54.009010\n",
              "2004-08-27  54.364365  52.897900  54.104103  53.128128   6211700.0  53.128128\n",
              "2004-08-30  52.797798  51.056057  52.692692  51.056057   5196700.0  51.056057\n",
              "2004-08-31  51.906906  51.131130  51.201202  51.236237   4917800.0  51.236237"
            ]
          },
          "metadata": {
            "tags": []
          },
          "execution_count": 1
        }
      ]
    },
    {
      "cell_type": "code",
      "metadata": {
        "id": "zMxTrBuCxTPt",
        "colab_type": "code",
        "outputId": "734ad0d7-8686-41d9-e0bc-9530c28aa41a",
        "colab": {
          "base_uri": "https://localhost:8080/",
          "height": 286
        }
      },
      "source": [
        "googl_data['Close'].plot()"
      ],
      "execution_count": 2,
      "outputs": [
        {
          "output_type": "execute_result",
          "data": {
            "text/plain": [
              "<matplotlib.axes._subplots.AxesSubplot at 0x7ff337072518>"
            ]
          },
          "metadata": {
            "tags": []
          },
          "execution_count": 2
        },
        {
          "output_type": "display_data",
          "data": {
            "image/png": "[encoded data removed]",
            "text/plain": [
              "<Figure size 432x288 with 1 Axes>"
            ]
          },
          "metadata": {
            "tags": [],
            "needs_background": "light"
          }
        }
      ]
    },
    {
      "cell_type": "code",
      "metadata": {
        "id": "gVqqTkq90Z0e",
        "colab_type": "code",
        "outputId": "682bd969-ae24-4d61-8e75-45edb6af1257",
        "colab": {
          "base_uri": "https://localhost:8080/",
          "height": 359
        }
      },
      "source": [
        "macq_start_date = '2007-12-28'\n",
        "macq_end_date = '2020-04-17'\n",
        "\n",
        "macq = data.DataReader('088980.ks', 'yahoo', macq_start_date, macq_end_date)\n",
        "\n",
        "macq.head(9)"
      ],
      "execution_count": 3,
      "outputs": [
        {
          "output_type": "execute_result",
          "data": {
            "text/html": [
              "<div>\n",
              "<style scoped>\n",
              "    .dataframe tbody tr th:only-of-type {\n",
              "        vertical-align: middle;\n",
              "    }\n",
              "\n",
              "    .dataframe tbody tr th {\n",
              "        vertical-align: top;\n",
              "    }\n",
              "\n",
              "    .dataframe thead th {\n",
              "        text-align: right;\n",
              "    }\n",
              "</style>\n",
              "<table border=\"1\" class=\"dataframe\">\n",
              "  <thead>\n",
              "    <tr style=\"text-align: right;\">\n",
              "      <th></th>\n",
              "      <th>High</th>\n",
              "      <th>Low</th>\n",
              "      <th>Open</th>\n",
              "      <th>Close</th>\n",
              "      <th>Volume</th>\n",
              "      <th>Adj Close</th>\n",
              "    </tr>\n",
              "    <tr>\n",
              "      <th>Date</th>\n",
              "      <th></th>\n",
              "      <th></th>\n",
              "      <th></th>\n",
              "      <th></th>\n",
              "      <th></th>\n",
              "      <th></th>\n",
              "    </tr>\n",
              "  </thead>\n",
              "  <tbody>\n",
              "    <tr>\n",
              "      <th>2007-12-28</th>\n",
              "      <td>8816.419922</td>\n",
              "      <td>8816.419922</td>\n",
              "      <td>8816.419922</td>\n",
              "      <td>8816.419922</td>\n",
              "      <td>0.0</td>\n",
              "      <td>8309.593750</td>\n",
              "    </tr>\n",
              "    <tr>\n",
              "      <th>2008-01-02</th>\n",
              "      <td>6900.000000</td>\n",
              "      <td>6800.000000</td>\n",
              "      <td>6900.000000</td>\n",
              "      <td>6850.000000</td>\n",
              "      <td>374050.0</td>\n",
              "      <td>6456.216797</td>\n",
              "    </tr>\n",
              "    <tr>\n",
              "      <th>2008-01-03</th>\n",
              "      <td>6870.000000</td>\n",
              "      <td>6640.000000</td>\n",
              "      <td>6870.000000</td>\n",
              "      <td>6740.000000</td>\n",
              "      <td>24960.0</td>\n",
              "      <td>6352.540039</td>\n",
              "    </tr>\n",
              "    <tr>\n",
              "      <th>2008-01-04</th>\n",
              "      <td>6830.000000</td>\n",
              "      <td>6700.000000</td>\n",
              "      <td>6730.000000</td>\n",
              "      <td>6780.000000</td>\n",
              "      <td>369480.0</td>\n",
              "      <td>6390.240234</td>\n",
              "    </tr>\n",
              "    <tr>\n",
              "      <th>2008-01-07</th>\n",
              "      <td>6970.000000</td>\n",
              "      <td>6770.000000</td>\n",
              "      <td>6770.000000</td>\n",
              "      <td>6970.000000</td>\n",
              "      <td>361590.0</td>\n",
              "      <td>6569.318359</td>\n",
              "    </tr>\n",
              "    <tr>\n",
              "      <th>2008-01-08</th>\n",
              "      <td>6980.000000</td>\n",
              "      <td>6800.000000</td>\n",
              "      <td>6970.000000</td>\n",
              "      <td>6980.000000</td>\n",
              "      <td>286750.0</td>\n",
              "      <td>6578.743164</td>\n",
              "    </tr>\n",
              "    <tr>\n",
              "      <th>2008-01-09</th>\n",
              "      <td>6970.000000</td>\n",
              "      <td>6890.000000</td>\n",
              "      <td>6970.000000</td>\n",
              "      <td>6950.000000</td>\n",
              "      <td>169420.0</td>\n",
              "      <td>6550.468262</td>\n",
              "    </tr>\n",
              "    <tr>\n",
              "      <th>2008-01-10</th>\n",
              "      <td>6920.000000</td>\n",
              "      <td>6810.000000</td>\n",
              "      <td>6810.000000</td>\n",
              "      <td>6900.000000</td>\n",
              "      <td>94590.0</td>\n",
              "      <td>6503.342285</td>\n",
              "    </tr>\n",
              "    <tr>\n",
              "      <th>2008-01-11</th>\n",
              "      <td>6900.000000</td>\n",
              "      <td>6790.000000</td>\n",
              "      <td>6890.000000</td>\n",
              "      <td>6810.000000</td>\n",
              "      <td>32310.0</td>\n",
              "      <td>6418.516113</td>\n",
              "    </tr>\n",
              "  </tbody>\n",
              "</table>\n",
              "</div>"
            ],
            "text/plain": [
              "                   High          Low  ...    Volume    Adj Close\n",
              "Date                                  ...                       \n",
              "2007-12-28  8816.419922  8816.419922  ...       0.0  8309.593750\n",
              "2008-01-02  6900.000000  6800.000000  ...  374050.0  6456.216797\n",
              "2008-01-03  6870.000000  6640.000000  ...   24960.0  6352.540039\n",
              "2008-01-04  6830.000000  6700.000000  ...  369480.0  6390.240234\n",
              "2008-01-07  6970.000000  6770.000000  ...  361590.0  6569.318359\n",
              "2008-01-08  6980.000000  6800.000000  ...  286750.0  6578.743164\n",
              "2008-01-09  6970.000000  6890.000000  ...  169420.0  6550.468262\n",
              "2008-01-10  6920.000000  6810.000000  ...   94590.0  6503.342285\n",
              "2008-01-11  6900.000000  6790.000000  ...   32310.0  6418.516113\n",
              "\n",
              "[9 rows x 6 columns]"
            ]
          },
          "metadata": {
            "tags": []
          },
          "execution_count": 3
        }
      ]
    },
    {
      "cell_type": "code",
      "metadata": {
        "id": "CTb3CKe30sxL",
        "colab_type": "code",
        "outputId": "2a6fee93-910f-480a-8b8a-10ec61299836",
        "colab": {
          "base_uri": "https://localhost:8080/",
          "height": 286
        }
      },
      "source": [
        "macq['Close'].plot()"
      ],
      "execution_count": 4,
      "outputs": [
        {
          "output_type": "execute_result",
          "data": {
            "text/plain": [
              "<matplotlib.axes._subplots.AxesSubplot at 0x7ff336fc9cc0>"
            ]
          },
          "metadata": {
            "tags": []
          },
          "execution_count": 4
        },
        {
          "output_type": "display_data",
          "data": {
            "image/png": "[encoded data removed]",
            "text/plain": [
              "<Figure size 432x288 with 1 Axes>"
            ]
          },
          "metadata": {
            "tags": [],
            "needs_background": "light"
          }
        }
      ]
    },
    {
      "cell_type": "code",
      "metadata": {
        "id": "wTr2WDw42L0J",
        "colab_type": "code",
        "outputId": "e8878f6e-ede3-4a52-a43b-0082fe1b7508",
        "colab": {
          "base_uri": "https://localhost:8080/",
          "height": 328
        }
      },
      "source": [
        "macq[macq['Close'] > 40000]"
      ],
      "execution_count": 5,
      "outputs": [
        {
          "output_type": "execute_result",
          "data": {
            "text/html": [
              "<div>\n",
              "<style scoped>\n",
              "    .dataframe tbody tr th:only-of-type {\n",
              "        vertical-align: middle;\n",
              "    }\n",
              "\n",
              "    .dataframe tbody tr th {\n",
              "        vertical-align: top;\n",
              "    }\n",
              "\n",
              "    .dataframe thead th {\n",
              "        text-align: right;\n",
              "    }\n",
              "</style>\n",
              "<table border=\"1\" class=\"dataframe\">\n",
              "  <thead>\n",
              "    <tr style=\"text-align: right;\">\n",
              "      <th></th>\n",
              "      <th>High</th>\n",
              "      <th>Low</th>\n",
              "      <th>Open</th>\n",
              "      <th>Close</th>\n",
              "      <th>Volume</th>\n",
              "      <th>Adj Close</th>\n",
              "    </tr>\n",
              "    <tr>\n",
              "      <th>Date</th>\n",
              "      <th></th>\n",
              "      <th></th>\n",
              "      <th></th>\n",
              "      <th></th>\n",
              "      <th></th>\n",
              "      <th></th>\n",
              "    </tr>\n",
              "  </thead>\n",
              "  <tbody>\n",
              "    <tr>\n",
              "      <th>2012-07-04</th>\n",
              "      <td>49790.601562</td>\n",
              "      <td>49790.601562</td>\n",
              "      <td>49790.601562</td>\n",
              "      <td>49790.601562</td>\n",
              "      <td>0.0</td>\n",
              "      <td>46928.308594</td>\n",
              "    </tr>\n",
              "    <tr>\n",
              "      <th>2012-07-05</th>\n",
              "      <td>49790.601562</td>\n",
              "      <td>49790.601562</td>\n",
              "      <td>49790.601562</td>\n",
              "      <td>49790.601562</td>\n",
              "      <td>0.0</td>\n",
              "      <td>46928.308594</td>\n",
              "    </tr>\n",
              "    <tr>\n",
              "      <th>2012-07-06</th>\n",
              "      <td>49790.601562</td>\n",
              "      <td>49790.601562</td>\n",
              "      <td>49790.601562</td>\n",
              "      <td>49790.601562</td>\n",
              "      <td>0.0</td>\n",
              "      <td>46928.308594</td>\n",
              "    </tr>\n",
              "    <tr>\n",
              "      <th>2012-07-09</th>\n",
              "      <td>49790.601562</td>\n",
              "      <td>49790.601562</td>\n",
              "      <td>49790.601562</td>\n",
              "      <td>49790.601562</td>\n",
              "      <td>0.0</td>\n",
              "      <td>46928.308594</td>\n",
              "    </tr>\n",
              "    <tr>\n",
              "      <th>2012-07-16</th>\n",
              "      <td>49790.601562</td>\n",
              "      <td>49790.601562</td>\n",
              "      <td>49790.601562</td>\n",
              "      <td>49790.601562</td>\n",
              "      <td>0.0</td>\n",
              "      <td>46928.308594</td>\n",
              "    </tr>\n",
              "    <tr>\n",
              "      <th>2012-07-25</th>\n",
              "      <td>49790.601562</td>\n",
              "      <td>49790.601562</td>\n",
              "      <td>49790.601562</td>\n",
              "      <td>49790.601562</td>\n",
              "      <td>0.0</td>\n",
              "      <td>46928.308594</td>\n",
              "    </tr>\n",
              "    <tr>\n",
              "      <th>2012-07-30</th>\n",
              "      <td>49790.601562</td>\n",
              "      <td>49790.601562</td>\n",
              "      <td>49790.601562</td>\n",
              "      <td>49790.601562</td>\n",
              "      <td>0.0</td>\n",
              "      <td>46928.308594</td>\n",
              "    </tr>\n",
              "    <tr>\n",
              "      <th>2012-09-04</th>\n",
              "      <td>49790.601562</td>\n",
              "      <td>49790.601562</td>\n",
              "      <td>49790.601562</td>\n",
              "      <td>49790.601562</td>\n",
              "      <td>0.0</td>\n",
              "      <td>46928.308594</td>\n",
              "    </tr>\n",
              "  </tbody>\n",
              "</table>\n",
              "</div>"
            ],
            "text/plain": [
              "                    High           Low  ...  Volume     Adj Close\n",
              "Date                                    ...                      \n",
              "2012-07-04  49790.601562  49790.601562  ...     0.0  46928.308594\n",
              "2012-07-05  49790.601562  49790.601562  ...     0.0  46928.308594\n",
              "2012-07-06  49790.601562  49790.601562  ...     0.0  46928.308594\n",
              "2012-07-09  49790.601562  49790.601562  ...     0.0  46928.308594\n",
              "2012-07-16  49790.601562  49790.601562  ...     0.0  46928.308594\n",
              "2012-07-25  49790.601562  49790.601562  ...     0.0  46928.308594\n",
              "2012-07-30  49790.601562  49790.601562  ...     0.0  46928.308594\n",
              "2012-09-04  49790.601562  49790.601562  ...     0.0  46928.308594\n",
              "\n",
              "[8 rows x 6 columns]"
            ]
          },
          "metadata": {
            "tags": []
          },
          "execution_count": 5
        }
      ]
    },
    {
      "cell_type": "code",
      "metadata": {
        "id": "hmII1Ls73kFd",
        "colab_type": "code",
        "outputId": "d5465d00-aee5-464e-94b3-c6bfaed2478b",
        "colab": {
          "base_uri": "https://localhost:8080/",
          "height": 286
        }
      },
      "source": [
        "macq = macq[macq['Close'] < 40000]\n",
        "macq['Close'].plot()"
      ],
      "execution_count": 6,
      "outputs": [
        {
          "output_type": "execute_result",
          "data": {
            "text/plain": [
              "<matplotlib.axes._subplots.AxesSubplot at 0x7ff336785860>"
            ]
          },
          "metadata": {
            "tags": []
          },
          "execution_count": 6
        },
        {
          "output_type": "display_data",
          "data": {
            "image/png": "[encoded data removed]",
            "text/plain": [
              "<Figure size 432x288 with 1 Axes>"
            ]
          },
          "metadata": {
            "tags": [],
            "needs_background": "light"
          }
        }
      ]
    },
    {
      "cell_type": "code",
      "metadata": {
        "id": "KpEc1c_6mLdX",
        "colab_type": "code",
        "colab": {
          "base_uri": "https://localhost:8080/",
          "height": 419
        },
        "outputId": "df91e512-1863-4996-a08c-7d807363fcba"
      },
      "source": [
        "import os\n",
        "\n",
        "from datetime import datetime\n",
        "\n",
        "import pandas_datareader.data as web\n",
        "\n",
        "API_KEY = \"\"\n",
        "\n",
        "f = web.DataReader(\"AAPL\", \"av-intraday\", start=datetime(2017, 5, 23),\n",
        "   end=datetime(2020, 5, 24),\n",
        "   api_key=API_KEY)\n",
        "\n",
        "f"
      ],
      "execution_count": 26,
      "outputs": [
        {
          "output_type": "execute_result",
          "data": {
            "text/html": [
              "<div>\n",
              "<style scoped>\n",
              "    .dataframe tbody tr th:only-of-type {\n",
              "        vertical-align: middle;\n",
              "    }\n",
              "\n",
              "    .dataframe tbody tr th {\n",
              "        vertical-align: top;\n",
              "    }\n",
              "\n",
              "    .dataframe thead th {\n",
              "        text-align: right;\n",
              "    }\n",
              "</style>\n",
              "<table border=\"1\" class=\"dataframe\">\n",
              "  <thead>\n",
              "    <tr style=\"text-align: right;\">\n",
              "      <th></th>\n",
              "      <th>open</th>\n",
              "      <th>high</th>\n",
              "      <th>low</th>\n",
              "      <th>close</th>\n",
              "      <th>volume</th>\n",
              "    </tr>\n",
              "  </thead>\n",
              "  <tbody>\n",
              "    <tr>\n",
              "      <th>2020-04-13 09:31:00</th>\n",
              "      <td>268.018</td>\n",
              "      <td>268.0180</td>\n",
              "      <td>268.0180</td>\n",
              "      <td>268.0180</td>\n",
              "      <td>805108</td>\n",
              "    </tr>\n",
              "    <tr>\n",
              "      <th>2020-04-13 09:32:00</th>\n",
              "      <td>268.210</td>\n",
              "      <td>268.7000</td>\n",
              "      <td>268.0155</td>\n",
              "      <td>268.3250</td>\n",
              "      <td>128378</td>\n",
              "    </tr>\n",
              "    <tr>\n",
              "      <th>2020-04-13 09:33:00</th>\n",
              "      <td>268.320</td>\n",
              "      <td>268.4400</td>\n",
              "      <td>267.8300</td>\n",
              "      <td>268.0012</td>\n",
              "      <td>94357</td>\n",
              "    </tr>\n",
              "    <tr>\n",
              "      <th>2020-04-13 09:34:00</th>\n",
              "      <td>268.060</td>\n",
              "      <td>268.2099</td>\n",
              "      <td>267.7750</td>\n",
              "      <td>268.0808</td>\n",
              "      <td>153419</td>\n",
              "    </tr>\n",
              "    <tr>\n",
              "      <th>2020-04-13 09:35:00</th>\n",
              "      <td>268.200</td>\n",
              "      <td>268.2000</td>\n",
              "      <td>268.2000</td>\n",
              "      <td>268.2000</td>\n",
              "      <td>129108</td>\n",
              "    </tr>\n",
              "    <tr>\n",
              "      <th>...</th>\n",
              "      <td>...</td>\n",
              "      <td>...</td>\n",
              "      <td>...</td>\n",
              "      <td>...</td>\n",
              "      <td>...</td>\n",
              "    </tr>\n",
              "    <tr>\n",
              "      <th>2020-04-17 15:56:00</th>\n",
              "      <td>282.290</td>\n",
              "      <td>282.5100</td>\n",
              "      <td>282.0400</td>\n",
              "      <td>282.1600</td>\n",
              "      <td>295403</td>\n",
              "    </tr>\n",
              "    <tr>\n",
              "      <th>2020-04-17 15:57:00</th>\n",
              "      <td>282.160</td>\n",
              "      <td>282.3400</td>\n",
              "      <td>282.1000</td>\n",
              "      <td>282.1500</td>\n",
              "      <td>195642</td>\n",
              "    </tr>\n",
              "    <tr>\n",
              "      <th>2020-04-17 15:58:00</th>\n",
              "      <td>282.160</td>\n",
              "      <td>282.2000</td>\n",
              "      <td>281.6975</td>\n",
              "      <td>281.7000</td>\n",
              "      <td>219244</td>\n",
              "    </tr>\n",
              "    <tr>\n",
              "      <th>2020-04-17 15:59:00</th>\n",
              "      <td>281.720</td>\n",
              "      <td>282.6300</td>\n",
              "      <td>281.7200</td>\n",
              "      <td>282.5100</td>\n",
              "      <td>347150</td>\n",
              "    </tr>\n",
              "    <tr>\n",
              "      <th>2020-04-17 16:00:00</th>\n",
              "      <td>282.550</td>\n",
              "      <td>283.1400</td>\n",
              "      <td>282.4000</td>\n",
              "      <td>282.9000</td>\n",
              "      <td>631210</td>\n",
              "    </tr>\n",
              "  </tbody>\n",
              "</table>\n",
              "<p>1944 rows × 5 columns</p>\n",
              "</div>"
            ],
            "text/plain": [
              "                        open      high       low     close  volume\n",
              "2020-04-13 09:31:00  268.018  268.0180  268.0180  268.0180  805108\n",
              "2020-04-13 09:32:00  268.210  268.7000  268.0155  268.3250  128378\n",
              "2020-04-13 09:33:00  268.320  268.4400  267.8300  268.0012   94357\n",
              "2020-04-13 09:34:00  268.060  268.2099  267.7750  268.0808  153419\n",
              "2020-04-13 09:35:00  268.200  268.2000  268.2000  268.2000  129108\n",
              "...                      ...       ...       ...       ...     ...\n",
              "2020-04-17 15:56:00  282.290  282.5100  282.0400  282.1600  295403\n",
              "2020-04-17 15:57:00  282.160  282.3400  282.1000  282.1500  195642\n",
              "2020-04-17 15:58:00  282.160  282.2000  281.6975  281.7000  219244\n",
              "2020-04-17 15:59:00  281.720  282.6300  281.7200  282.5100  347150\n",
              "2020-04-17 16:00:00  282.550  283.1400  282.4000  282.9000  631210\n",
              "\n",
              "[1944 rows x 5 columns]"
            ]
          },
          "metadata": {
            "tags": []
          },
          "execution_count": 26
        }
      ]
    }
  ]
}