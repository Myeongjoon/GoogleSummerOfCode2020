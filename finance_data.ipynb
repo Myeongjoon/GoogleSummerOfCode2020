{
  "nbformat": 4,
  "nbformat_minor": 0,
  "metadata": {
    "colab": {
      "name": "finance_data.ipynb",
      "provenance": [],
      "collapsed_sections": [],
      "authorship_tag": "ABX9TyOrr/j9obwn3NXQ2fvRCyZv",
      "include_colab_link": true
    },
    "kernelspec": {
      "name": "python3",
      "display_name": "Python 3"
    }
  },
  "cells": [
    {
      "cell_type": "markdown",
      "metadata": {
        "id": "view-in-github",
        "colab_type": "text"
      },
      "source": [
        "<a href=\"https://colab.research.google.com/github/Myeongjoon/GoogleSummerOfCode2020/blob/master/finance_data.ipynb\" target=\"_parent\"><img src=\"https://colab.research.google.com/assets/colab-badge.svg\" alt=\"Open In Colab\"/></a>"
      ]
    },
    {
      "cell_type": "code",
      "metadata": {
        "id": "nVezVY8CtCAX",
        "colab_type": "code",
        "colab": {
          "base_uri": "https://localhost:8080/",
          "height": 359
        },
        "outputId": "8ca25eb9-4c9c-49cc-a867-a1bfedbf2667"
      },
      "source": [
        "from pandas_datareader import data\n",
        "import matplotlib.pyplot as plt\n",
        "import pandas as pd\n",
        "\n",
        "tickers = ['AAPL', 'MSFT', '^GSPC', '^GOOGL']\n",
        "\n",
        "start_date = '2004-08-19'\n",
        "end_date = '2020-04-17'\n",
        "\n",
        "google_data = data.DataReader('GOOGL', 'yahoo', start_date, end_date)\n",
        "\n",
        "google_data.head(9)"
      ],
      "execution_count": 18,
      "outputs": [
        {
          "output_type": "execute_result",
          "data": {
            "text/html": [
              "<div>\n",
              "<style scoped>\n",
              "    .dataframe tbody tr th:only-of-type {\n",
              "        vertical-align: middle;\n",
              "    }\n",
              "\n",
              "    .dataframe tbody tr th {\n",
              "        vertical-align: top;\n",
              "    }\n",
              "\n",
              "    .dataframe thead th {\n",
              "        text-align: right;\n",
              "    }\n",
              "</style>\n",
              "<table border=\"1\" class=\"dataframe\">\n",
              "  <thead>\n",
              "    <tr style=\"text-align: right;\">\n",
              "      <th></th>\n",
              "      <th>High</th>\n",
              "      <th>Low</th>\n",
              "      <th>Open</th>\n",
              "      <th>Close</th>\n",
              "      <th>Volume</th>\n",
              "      <th>Adj Close</th>\n",
              "    </tr>\n",
              "    <tr>\n",
              "      <th>Date</th>\n",
              "      <th></th>\n",
              "      <th></th>\n",
              "      <th></th>\n",
              "      <th></th>\n",
              "      <th></th>\n",
              "      <th></th>\n",
              "    </tr>\n",
              "  </thead>\n",
              "  <tbody>\n",
              "    <tr>\n",
              "      <th>2004-08-19</th>\n",
              "      <td>52.082081</td>\n",
              "      <td>48.028027</td>\n",
              "      <td>50.050049</td>\n",
              "      <td>50.220219</td>\n",
              "      <td>44659000.0</td>\n",
              "      <td>50.220219</td>\n",
              "    </tr>\n",
              "    <tr>\n",
              "      <th>2004-08-20</th>\n",
              "      <td>54.594593</td>\n",
              "      <td>50.300301</td>\n",
              "      <td>50.555557</td>\n",
              "      <td>54.209209</td>\n",
              "      <td>22834300.0</td>\n",
              "      <td>54.209209</td>\n",
              "    </tr>\n",
              "    <tr>\n",
              "      <th>2004-08-23</th>\n",
              "      <td>56.796795</td>\n",
              "      <td>54.579578</td>\n",
              "      <td>55.430431</td>\n",
              "      <td>54.754753</td>\n",
              "      <td>18256100.0</td>\n",
              "      <td>54.754753</td>\n",
              "    </tr>\n",
              "    <tr>\n",
              "      <th>2004-08-24</th>\n",
              "      <td>55.855854</td>\n",
              "      <td>51.836838</td>\n",
              "      <td>55.675674</td>\n",
              "      <td>52.487488</td>\n",
              "      <td>15247300.0</td>\n",
              "      <td>52.487488</td>\n",
              "    </tr>\n",
              "    <tr>\n",
              "      <th>2004-08-25</th>\n",
              "      <td>54.054054</td>\n",
              "      <td>51.991993</td>\n",
              "      <td>52.532532</td>\n",
              "      <td>53.053055</td>\n",
              "      <td>9188600.0</td>\n",
              "      <td>53.053055</td>\n",
              "    </tr>\n",
              "    <tr>\n",
              "      <th>2004-08-26</th>\n",
              "      <td>54.029030</td>\n",
              "      <td>52.382381</td>\n",
              "      <td>52.527527</td>\n",
              "      <td>54.009010</td>\n",
              "      <td>7094800.0</td>\n",
              "      <td>54.009010</td>\n",
              "    </tr>\n",
              "    <tr>\n",
              "      <th>2004-08-27</th>\n",
              "      <td>54.364365</td>\n",
              "      <td>52.897900</td>\n",
              "      <td>54.104103</td>\n",
              "      <td>53.128128</td>\n",
              "      <td>6211700.0</td>\n",
              "      <td>53.128128</td>\n",
              "    </tr>\n",
              "    <tr>\n",
              "      <th>2004-08-30</th>\n",
              "      <td>52.797798</td>\n",
              "      <td>51.056057</td>\n",
              "      <td>52.692692</td>\n",
              "      <td>51.056057</td>\n",
              "      <td>5196700.0</td>\n",
              "      <td>51.056057</td>\n",
              "    </tr>\n",
              "    <tr>\n",
              "      <th>2004-08-31</th>\n",
              "      <td>51.906906</td>\n",
              "      <td>51.131130</td>\n",
              "      <td>51.201202</td>\n",
              "      <td>51.236237</td>\n",
              "      <td>4917800.0</td>\n",
              "      <td>51.236237</td>\n",
              "    </tr>\n",
              "  </tbody>\n",
              "</table>\n",
              "</div>"
            ],
            "text/plain": [
              "                 High        Low       Open      Close      Volume  Adj Close\n",
              "Date                                                                         \n",
              "2004-08-19  52.082081  48.028027  50.050049  50.220219  44659000.0  50.220219\n",
              "2004-08-20  54.594593  50.300301  50.555557  54.209209  22834300.0  54.209209\n",
              "2004-08-23  56.796795  54.579578  55.430431  54.754753  18256100.0  54.754753\n",
              "2004-08-24  55.855854  51.836838  55.675674  52.487488  15247300.0  52.487488\n",
              "2004-08-25  54.054054  51.991993  52.532532  53.053055   9188600.0  53.053055\n",
              "2004-08-26  54.029030  52.382381  52.527527  54.009010   7094800.0  54.009010\n",
              "2004-08-27  54.364365  52.897900  54.104103  53.128128   6211700.0  53.128128\n",
              "2004-08-30  52.797798  51.056057  52.692692  51.056057   5196700.0  51.056057\n",
              "2004-08-31  51.906906  51.131130  51.201202  51.236237   4917800.0  51.236237"
            ]
          },
          "metadata": {
            "tags": []
          },
          "execution_count": 18
        }
      ]
    },
    {
      "cell_type": "code",
      "metadata": {
        "id": "zMxTrBuCxTPt",
        "colab_type": "code",
        "colab": {
          "base_uri": "https://localhost:8080/",
          "height": 286
        },
        "outputId": "0f50ef5c-9ff2-43b3-b5a9-430e9fca56d0"
      },
      "source": [
        "google_data['Close'].plot()"
      ],
      "execution_count": 19,
      "outputs": [
        {
          "output_type": "execute_result",
          "data": {
            "text/plain": [
              "<matplotlib.axes._subplots.AxesSubplot at 0x7f869dad2d68>"
            ]
          },
          "metadata": {
            "tags": []
          },
          "execution_count": 19
        },
        {
          "output_type": "display_data",
          "data": {
            "image/png": "[encoded data removed]",
            "text/plain": [
              "<Figure size 432x288 with 1 Axes>"
            ]
          },
          "metadata": {
            "tags": [],
            "needs_background": "light"
          }
        }
      ]
    }
  ]
}